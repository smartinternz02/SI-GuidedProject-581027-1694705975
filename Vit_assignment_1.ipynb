{
  "nbformat": 4,
  "nbformat_minor": 0,
  "metadata": {
    "colab": {
      "provenance": []
    },
    "kernelspec": {
      "name": "python3",
      "display_name": "Python 3"
    },
    "language_info": {
      "name": "python"
    }
  },
  "cells": [
    {
      "cell_type": "code",
      "execution_count": 2,
      "metadata": {
        "colab": {
          "base_uri": "https://localhost:8080/"
        },
        "id": "6-4y9iFdbC_o",
        "outputId": "8cf603a4-ed08-4b72-8857-ceff771d1fba"
      },
      "outputs": [
        {
          "output_type": "stream",
          "name": "stdout",
          "text": [
            "Task 1: DataFrame with random values:\n",
            "   Random value 1  Random value 2  Random value 3  Random value 4\n",
            "0        0.058173        0.190074        0.378912        0.444512\n",
            "1        0.320514        0.956163        0.998510        0.788890\n",
            "2        0.219590        0.288465        0.657421        0.165473\n",
            "3        0.835455        0.864690        0.577056        0.318818\n"
          ]
        }
      ],
      "source": [
        "import numpy as np\n",
        "import pandas as pd\n",
        "\n",
        "# Task 1: Create a DataFrame with random values\n",
        "data = np.random.rand(4, 4)\n",
        "df = pd.DataFrame(data, columns=['Random value 1', 'Random value 2', 'Random value 3', 'Random value 4'])\n",
        "\n",
        "print(\"Task 1: DataFrame with random values:\")\n",
        "print(df)\n",
        "\n"
      ]
    },
    {
      "cell_type": "code",
      "source": [
        "# Task 2: Rename the columns\n",
        "df.columns = ['Random value 1', 'Random value 2', 'Random value 3', 'Random value 4']\n",
        "\n",
        "print(\"\\nTask 2: Renamed column names:\")\n",
        "print(df.columns)\n",
        "\n"
      ],
      "metadata": {
        "colab": {
          "base_uri": "https://localhost:8080/"
        },
        "id": "hyalraWBbSMS",
        "outputId": "b80e25b5-67c7-4668-d556-925d5fd58d42"
      },
      "execution_count": 3,
      "outputs": [
        {
          "output_type": "stream",
          "name": "stdout",
          "text": [
            "\n",
            "Task 2: Renamed column names:\n",
            "Index(['Random value 1', 'Random value 2', 'Random value 3', 'Random value 4'], dtype='object')\n"
          ]
        }
      ]
    },
    {
      "cell_type": "code",
      "source": [
        "# Task 3: Descriptive statistics\n",
        "descriptive_stats = df.describe()\n",
        "\n",
        "print(\"\\nTask 3: Descriptive statistics:\")\n",
        "print(descriptive_stats)\n",
        "\n"
      ],
      "metadata": {
        "colab": {
          "base_uri": "https://localhost:8080/"
        },
        "id": "8Az7TDILbVnZ",
        "outputId": "35e7120b-e44e-41b9-bc67-c3b8756134c7"
      },
      "execution_count": 4,
      "outputs": [
        {
          "output_type": "stream",
          "name": "stdout",
          "text": [
            "\n",
            "Task 3: Descriptive statistics:\n",
            "       Random value 1  Random value 2  Random value 3  Random value 4\n",
            "count        4.000000        4.000000        4.000000        4.000000\n",
            "mean         0.358433        0.574848        0.652975        0.429423\n",
            "std          0.335868        0.391355        0.258385        0.265423\n",
            "min          0.058173        0.190074        0.378912        0.165473\n",
            "25%          0.179235        0.263867        0.527520        0.280482\n",
            "50%          0.270052        0.576577        0.617239        0.381665\n",
            "75%          0.449249        0.887558        0.742693        0.530607\n",
            "max          0.835455        0.956163        0.998510        0.788890\n"
          ]
        }
      ]
    },
    {
      "cell_type": "code",
      "source": [
        "# Task 4: Check for null values and data types\n",
        "null_values = df.isnull().sum()\n",
        "data_types = df.dtypes\n",
        "\n",
        "print(\"\\nTask 4: Null values and data types:\")\n",
        "print(\"Null Values:\")\n",
        "print(null_values)\n",
        "print(\"\\nData Types:\")\n",
        "print(data_types)\n",
        "\n"
      ],
      "metadata": {
        "colab": {
          "base_uri": "https://localhost:8080/"
        },
        "id": "XraArr38bYD2",
        "outputId": "79e1b1bb-7d28-4abc-ee56-e092086fe7ed"
      },
      "execution_count": 5,
      "outputs": [
        {
          "output_type": "stream",
          "name": "stdout",
          "text": [
            "\n",
            "Task 4: Null values and data types:\n",
            "Null Values:\n",
            "Random value 1    0\n",
            "Random value 2    0\n",
            "Random value 3    0\n",
            "Random value 4    0\n",
            "dtype: int64\n",
            "\n",
            "Data Types:\n",
            "Random value 1    float64\n",
            "Random value 2    float64\n",
            "Random value 3    float64\n",
            "Random value 4    float64\n",
            "dtype: object\n"
          ]
        }
      ]
    },
    {
      "cell_type": "code",
      "source": [
        "# Task 5: Display 'Random value 2' and 'Random value 3'\n",
        "value_2_location = df['Random value 2']\n",
        "value_3_index = df.loc[:, 'Random value 3']\n",
        "\n",
        "print(\"\\nTask 5: Display 'Random value 2' and 'Random value 3:\")\n",
        "print(\"Random value 2:\")\n",
        "print(value_2_location)\n",
        "print(\"\\nRandom value 3:\")\n",
        "print(value_3_index)"
      ],
      "metadata": {
        "colab": {
          "base_uri": "https://localhost:8080/"
        },
        "id": "LSRE4FJ2baXx",
        "outputId": "b15102bf-c884-4fc1-924c-6deb101e0e58"
      },
      "execution_count": 6,
      "outputs": [
        {
          "output_type": "stream",
          "name": "stdout",
          "text": [
            "\n",
            "Task 5: Display 'Random value 2' and 'Random value 3:\n",
            "Random value 2:\n",
            "0    0.190074\n",
            "1    0.956163\n",
            "2    0.288465\n",
            "3    0.864690\n",
            "Name: Random value 2, dtype: float64\n",
            "\n",
            "Random value 3:\n",
            "0    0.378912\n",
            "1    0.998510\n",
            "2    0.657421\n",
            "3    0.577056\n",
            "Name: Random value 3, dtype: float64\n"
          ]
        }
      ]
    }
  ]
}